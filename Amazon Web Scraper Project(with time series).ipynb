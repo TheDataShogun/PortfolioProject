{
 "cells": [
  {
   "cell_type": "code",
   "execution_count": null,
   "id": "d7e0b3c9",
   "metadata": {},
   "outputs": [],
   "source": []
  },
  {
   "cell_type": "code",
   "execution_count": 1,
   "id": "0a564587",
   "metadata": {},
   "outputs": [],
   "source": [
    "# let's kick it off by importing libriaries\n",
    "from bs4 import BeautifulSoup\n",
    "import requests\n",
    "import time\n",
    "import datetime\n",
    "\n",
    "import smtplib"
   ]
  },
  {
   "cell_type": "code",
   "execution_count": 2,
   "id": "c03506a1",
   "metadata": {},
   "outputs": [
    {
     "name": "stdout",
     "output_type": "stream",
     "text": [
      "\n",
      "                    Data Analyst T-Shirt for Men,Him, Male, Boss, Son - What's Your Superpower Tee Top - Men Clothing Shirt for Data Analyst\n",
      "                   \n",
      "\n",
      "\n",
      "\n",
      "\n",
      "\n",
      "                     Price:\n",
      "                    \n",
      "\n",
      "\n",
      "\n",
      "\n",
      "                        $25.75\n",
      "                       \n",
      "\n",
      "                        $25.75\n",
      "                       \n",
      "\n",
      "\n",
      "                       -\n",
      "                      \n",
      "\n",
      "\n",
      "                        $29.75\n",
      "                       \n",
      "\n",
      "                        $29.75\n",
      "                       \n",
      "\n",
      "\n",
      "\n",
      "\n",
      "\n",
      "\n",
      "\n",
      "\n",
      "\n",
      "\n",
      "\n",
      "\n",
      "\n",
      "\n",
      "\n",
      "\n",
      "\n",
      "\n",
      "\n",
      "\n",
      "\n",
      "\n",
      "\n",
      "\n",
      "\n",
      "\n",
      "\n",
      "\n"
     ]
    }
   ],
   "source": [
    "#connect to website\n",
    "URL = 'https://www.amazon.com/Data-Analyst-T-Shirt-Male-Boss/dp/B09T5BKPS3/ref=sr_1_1?crid=ZP6MU3LTJ1NI&dib=eyJ2IjoiMSJ9.Jk04DCl9lqPzCMcT-QPlzczzIfAuxd8UpjJAJtrDzvictAMLePJ_U4OYQq3BuRf5Pg7b2ud0IQAUWJalsw_J4g.GdtRfoFu7CvKOi3JmeZqWpxQWVnV3dNqqWbT6TI53Qs&dib_tag=se&keywords=data%2Banalyst%2Bshirt&qid=1703700902&sprefix=data%2Banalyst%2Bshirt%2Caps%2C202&sr=8-1'\n",
    "headers = {\"User-Agent\": \"Mozilla/5.0 (Windows NT 10.0; Win64; x64) AppleWebKit/537.36 (KHTML, like Gecko) Chrome/120.0.0.0 Safari/537.36 Edg/120.0.0.0\", \"Accept-Encoding\":\"gzip, deflate\", \"Accept\":\"text/html,application/xhtml+xml,application/xml;q=0.9,*/*;q=0.8\", \"DNT\":\"1\",\"Connection\":\"close\", \"Upgrade-Insecure-Requests\":\"1\"}\n",
    "\n",
    "\n",
    "page = requests.get(URL, headers = headers)\n",
    "\n",
    "soup1 = BeautifulSoup(page.content,\"html.parser\")\n",
    "\n",
    "\n",
    "soup2 = BeautifulSoup(soup1.prettify(), \"html.parser\")# makes it look prettier\n",
    "title = soup2.find(id='productTitle').get_text()\n",
    "\n",
    "\n",
    "\n",
    "price = soup2.find(id = 'corePrice_desktop').get_text()\n",
    "\n",
    "print(title)# pull up the title\n",
    "print(price) # display the price"
   ]
  },
  {
   "cell_type": "code",
   "execution_count": 3,
   "id": "dc41a28f",
   "metadata": {},
   "outputs": [
    {
     "name": "stdout",
     "output_type": "stream",
     "text": [
      "Men Clothing Shirt for Data Analyst\n",
      "29.75\n"
     ]
    }
   ],
   "source": [
    "title=title.strip()[-35:]\n",
    "price=price.strip()[-5:]\n",
    "print(title)\n",
    "print(price)"
   ]
  },
  {
   "cell_type": "markdown",
   "id": "c48fa8f5",
   "metadata": {},
   "source": [
    "## Let's pour our data in a csv file"
   ]
  },
  {
   "cell_type": "code",
   "execution_count": 4,
   "id": "976ebf00",
   "metadata": {},
   "outputs": [
    {
     "name": "stdout",
     "output_type": "stream",
     "text": [
      "2023-12-29\n"
     ]
    }
   ],
   "source": [
    "import datetime\n",
    "date= datetime.date.today()\n",
    "print(date)"
   ]
  },
  {
   "cell_type": "code",
   "execution_count": 5,
   "id": "d71a46ff",
   "metadata": {},
   "outputs": [],
   "source": [
    "import csv # creates a csv file\n",
    "\n",
    "header = ['Title','Price', 'Date']\n",
    "data = [title, price, date]\n",
    "\n",
    "with open('AmazonWebScraperDataset.csv', 'w', newline ='', encoding='UTF8') as f:\n",
    "    writer = csv.writer(f)\n",
    "    writer.writerow(header)\n",
    "    writer.writerow(data)\n",
    "    \n",
    "# to retrieve the file, you got to go into the users file"
   ]
  },
  {
   "cell_type": "code",
   "execution_count": 6,
   "id": "ebbee0ab",
   "metadata": {},
   "outputs": [
    {
     "data": {
      "text/html": [
       "<div>\n",
       "<style scoped>\n",
       "    .dataframe tbody tr th:only-of-type {\n",
       "        vertical-align: middle;\n",
       "    }\n",
       "\n",
       "    .dataframe tbody tr th {\n",
       "        vertical-align: top;\n",
       "    }\n",
       "\n",
       "    .dataframe thead th {\n",
       "        text-align: right;\n",
       "    }\n",
       "</style>\n",
       "<table border=\"1\" class=\"dataframe\">\n",
       "  <thead>\n",
       "    <tr style=\"text-align: right;\">\n",
       "      <th></th>\n",
       "      <th>Title</th>\n",
       "      <th>Price</th>\n",
       "      <th>Date</th>\n",
       "    </tr>\n",
       "  </thead>\n",
       "  <tbody>\n",
       "    <tr>\n",
       "      <th>0</th>\n",
       "      <td>Men Clothing Shirt for Data Analyst</td>\n",
       "      <td>29.75</td>\n",
       "      <td>2023-12-29</td>\n",
       "    </tr>\n",
       "  </tbody>\n",
       "</table>\n",
       "</div>"
      ],
      "text/plain": [
       "                                 Title  Price        Date\n",
       "0  Men Clothing Shirt for Data Analyst  29.75  2023-12-29"
      ]
     },
     "execution_count": 6,
     "metadata": {},
     "output_type": "execute_result"
    }
   ],
   "source": [
    "import pandas as pd\n",
    "df = pd.read_csv(r\"C:\\Users\\raphi\\AmazonWebScraperDataset.csv\")\n",
    "df"
   ]
  },
  {
   "cell_type": "code",
   "execution_count": null,
   "id": "96cb4f61",
   "metadata": {},
   "outputs": [],
   "source": []
  },
  {
   "cell_type": "code",
   "execution_count": 7,
   "id": "1e8a860d",
   "metadata": {},
   "outputs": [],
   "source": [
    "# now we're appending our data to the csv\n",
    "with open('AmazonWebScraperDataset.csv', 'a+', newline ='', encoding='UTF8') as f:\n",
    "    writer = csv.writer(f)\n",
    "    writer.writerow(data)\n",
    "    "
   ]
  },
  {
   "cell_type": "markdown",
   "id": "33a05976",
   "metadata": {},
   "source": [
    "## Time Series\n",
    "#### let's prompt a code that would ultmately automated appending data in the background"
   ]
  },
  {
   "cell_type": "code",
   "execution_count": 11,
   "id": "b3d0d188",
   "metadata": {},
   "outputs": [],
   "source": [
    "def check_price():\n",
    "    URL = 'https://www.amazon.com/Data-Analyst-T-Shirt-Male-Boss/dp/B09T5BKPS3/ref=sr_1_1?crid=ZP6MU3LTJ1NI&dib=eyJ2IjoiMSJ9.Jk04DCl9lqPzCMcT-QPlzczzIfAuxd8UpjJAJtrDzvictAMLePJ_U4OYQq3BuRf5Pg7b2ud0IQAUWJalsw_J4g.GdtRfoFu7CvKOi3JmeZqWpxQWVnV3dNqqWbT6TI53Qs&dib_tag=se&keywords=data%2Banalyst%2Bshirt&qid=1703700902&sprefix=data%2Banalyst%2Bshirt%2Caps%2C202&sr=8-1'\n",
    "    \n",
    "    headers = {\"User-Agent\": \"Mozilla/5.0 (Windows NT 10.0; Win64; x64) AppleWebKit/537.36 (KHTML, like Gecko) Chrome/120.0.0.0 Safari/537.36 Edg/120.0.0.0\", \"Accept-Encoding\":\"gzip, deflate\", \"Accept\":\"text/html,application/xhtml+xml,application/xml;q=0.9,*/*;q=0.8\", \"DNT\":\"1\",\"Connection\":\"close\", \"Upgrade-Insecure-Requests\":\"1\"}\n",
    "\n",
    "    page = requests.get(URL, headers = headers)\n",
    "\n",
    "    soup1 = BeautifulSoup(page.content,\"html.parser\")\n",
    "\n",
    "    soup2 = BeautifulSoup(soup1.prettify(), \"html.parser\")# makes it look prettier\n",
    "    \n",
    "    title = soup2.find(id='productTitle').get_text()\n",
    "\n",
    "    price = soup2.find(id = 'corePrice_desktop').get_text()\n",
    "    \n",
    "    title=title.strip()[-35:]\n",
    "    price=price.strip()[-5:]\n",
    "    \n",
    "    import datetime\n",
    "    today= datetime.date.today()\n",
    "    \n",
    "    import csv\n",
    "\n",
    "    header = ['Title','Price', 'Date']\n",
    "    data = [title, price, date]\n",
    "    \n",
    "    with open('AmazonWebScraperDataset.csv', 'a+', newline ='', encoding='UTF8') as f:\n",
    "        writer = csv.writer(f)\n",
    "        writer.writerow(data)"
   ]
  },
  {
   "cell_type": "code",
   "execution_count": 12,
   "id": "a1a84f67",
   "metadata": {},
   "outputs": [
    {
     "ename": "KeyboardInterrupt",
     "evalue": "",
     "output_type": "error",
     "traceback": [
      "\u001b[1;31m---------------------------------------------------------------------------\u001b[0m",
      "\u001b[1;31mKeyboardInterrupt\u001b[0m                         Traceback (most recent call last)",
      "Cell \u001b[1;32mIn[12], line 3\u001b[0m\n\u001b[0;32m      1\u001b[0m \u001b[38;5;28;01mwhile\u001b[39;00m(\u001b[38;5;28;01mTrue\u001b[39;00m):\n\u001b[0;32m      2\u001b[0m     check_price()\n\u001b[1;32m----> 3\u001b[0m     time\u001b[38;5;241m.\u001b[39msleep(\u001b[38;5;241m5\u001b[39m)\n",
      "\u001b[1;31mKeyboardInterrupt\u001b[0m: "
     ]
    }
   ],
   "source": [
    "while(True):\n",
    "    check_price()\n",
    "    time.sleep(5) # it goes by sec, so if we do a bit of math (60s*60)*24 = 86400 sec = a day"
   ]
  },
  {
   "cell_type": "code",
   "execution_count": 13,
   "id": "0c305cd0",
   "metadata": {},
   "outputs": [
    {
     "data": {
      "text/html": [
       "<div>\n",
       "<style scoped>\n",
       "    .dataframe tbody tr th:only-of-type {\n",
       "        vertical-align: middle;\n",
       "    }\n",
       "\n",
       "    .dataframe tbody tr th {\n",
       "        vertical-align: top;\n",
       "    }\n",
       "\n",
       "    .dataframe thead th {\n",
       "        text-align: right;\n",
       "    }\n",
       "</style>\n",
       "<table border=\"1\" class=\"dataframe\">\n",
       "  <thead>\n",
       "    <tr style=\"text-align: right;\">\n",
       "      <th></th>\n",
       "      <th>Title</th>\n",
       "      <th>Price</th>\n",
       "      <th>Date</th>\n",
       "    </tr>\n",
       "  </thead>\n",
       "  <tbody>\n",
       "    <tr>\n",
       "      <th>0</th>\n",
       "      <td>Men Clothing Shirt for Data Analyst</td>\n",
       "      <td>29.75</td>\n",
       "      <td>2023-12-29</td>\n",
       "    </tr>\n",
       "    <tr>\n",
       "      <th>1</th>\n",
       "      <td>Men Clothing Shirt for Data Analyst</td>\n",
       "      <td>29.75</td>\n",
       "      <td>2023-12-29</td>\n",
       "    </tr>\n",
       "    <tr>\n",
       "      <th>2</th>\n",
       "      <td>Men Clothing Shirt for Data Analyst</td>\n",
       "      <td>29.75</td>\n",
       "      <td>2023-12-29</td>\n",
       "    </tr>\n",
       "    <tr>\n",
       "      <th>3</th>\n",
       "      <td>Men Clothing Shirt for Data Analyst</td>\n",
       "      <td>29.75</td>\n",
       "      <td>2023-12-29</td>\n",
       "    </tr>\n",
       "    <tr>\n",
       "      <th>4</th>\n",
       "      <td>Men Clothing Shirt for Data Analyst</td>\n",
       "      <td>29.75</td>\n",
       "      <td>2023-12-29</td>\n",
       "    </tr>\n",
       "    <tr>\n",
       "      <th>5</th>\n",
       "      <td>Men Clothing Shirt for Data Analyst</td>\n",
       "      <td>item</td>\n",
       "      <td>2023-12-29</td>\n",
       "    </tr>\n",
       "    <tr>\n",
       "      <th>6</th>\n",
       "      <td>Men Clothing Shirt for Data Analyst</td>\n",
       "      <td>29.75</td>\n",
       "      <td>2023-12-29</td>\n",
       "    </tr>\n",
       "    <tr>\n",
       "      <th>7</th>\n",
       "      <td>Men Clothing Shirt for Data Analyst</td>\n",
       "      <td>29.75</td>\n",
       "      <td>2023-12-29</td>\n",
       "    </tr>\n",
       "  </tbody>\n",
       "</table>\n",
       "</div>"
      ],
      "text/plain": [
       "                                 Title  Price        Date\n",
       "0  Men Clothing Shirt for Data Analyst  29.75  2023-12-29\n",
       "1  Men Clothing Shirt for Data Analyst  29.75  2023-12-29\n",
       "2  Men Clothing Shirt for Data Analyst  29.75  2023-12-29\n",
       "3  Men Clothing Shirt for Data Analyst  29.75  2023-12-29\n",
       "4  Men Clothing Shirt for Data Analyst  29.75  2023-12-29\n",
       "5  Men Clothing Shirt for Data Analyst   item  2023-12-29\n",
       "6  Men Clothing Shirt for Data Analyst  29.75  2023-12-29\n",
       "7  Men Clothing Shirt for Data Analyst  29.75  2023-12-29"
      ]
     },
     "execution_count": 13,
     "metadata": {},
     "output_type": "execute_result"
    }
   ],
   "source": [
    "import pandas as pd\n",
    "\n",
    "df= pd.read_csv(r\"C:\\Users\\raphi\\AmazonWebScraperDataset.csv\")\n",
    "df"
   ]
  },
  {
   "cell_type": "markdown",
   "id": "547a38f1",
   "metadata": {},
   "source": [
    "#### the purpose of this project is to track the price of a certain article to make a decision on when would be the best time to purchased it"
   ]
  },
  {
   "cell_type": "code",
   "execution_count": null,
   "id": "b1a7c24c",
   "metadata": {},
   "outputs": [],
   "source": [
    "def check_price():\n",
    "    URL = 'https://www.amazon.com/Data-Analyst-T-Shirt-Male-Boss/dp/B09T5BKPS3/ref=sr_1_1?crid=ZP6MU3LTJ1NI&dib=eyJ2IjoiMSJ9.Jk04DCl9lqPzCMcT-QPlzczzIfAuxd8UpjJAJtrDzvictAMLePJ_U4OYQq3BuRf5Pg7b2ud0IQAUWJalsw_J4g.GdtRfoFu7CvKOi3JmeZqWpxQWVnV3dNqqWbT6TI53Qs&dib_tag=se&keywords=data%2Banalyst%2Bshirt&qid=1703700902&sprefix=data%2Banalyst%2Bshirt%2Caps%2C202&sr=8-1'\n",
    "    \n",
    "    headers = {\"User-Agent\": \"Mozilla/5.0 (Windows NT 10.0; Win64; x64) AppleWebKit/537.36 (KHTML, like Gecko) Chrome/120.0.0.0 Safari/537.36 Edg/120.0.0.0\", \"Accept-Encoding\":\"gzip, deflate\", \"Accept\":\"text/html,application/xhtml+xml,application/xml;q=0.9,*/*;q=0.8\", \"DNT\":\"1\",\"Connection\":\"close\", \"Upgrade-Insecure-Requests\":\"1\"}\n",
    "\n",
    "    page = requests.get(URL, headers = headers)\n",
    "\n",
    "    soup1 = BeautifulSoup(page.content,\"html.parser\")\n",
    "\n",
    "    soup2 = BeautifulSoup(soup1.prettify(), \"html.parser\")# makes it look prettier\n",
    "    \n",
    "    title = soup2.find(id='productTitle').get_text()\n",
    "\n",
    "    price = soup2.find(id = 'corePrice_desktop').get_text()\n",
    "    \n",
    "    title=title.strip()[-35:]\n",
    "    price=price.strip()[-5:]\n",
    "    \n",
    "    import datetime\n",
    "    today= datetime.date.today()\n",
    "    \n",
    "    import csv\n",
    "\n",
    "    header = ['Title','Price', 'Date']\n",
    "    data = [title, price, date]\n",
    "    \n",
    "    with open('AmazonWebScraperDataset.csv', 'a+', newline ='', encoding='UTF8') as f: #run the next 3 chuncks of code once\n",
    "        writer = csv.writer(f)\n",
    "        writer.writerow(data)\n",
    "        \n",
    "    if(price<15):\n",
    "        send_mail()"
   ]
  },
  {
   "cell_type": "code",
   "execution_count": null,
   "id": "d512ebcf",
   "metadata": {},
   "outputs": [],
   "source": [
    "# If uou want to try sending yourself an email (just for fun) when a price hits below a certain level you can try it\n",
    "# out with this script\n",
    "\n",
    "def send_mail():\n",
    "    server = smtplib.SMTP_SSL('smtp.gmail.com',465)\n",
    "    server.ehlo()\n",
    "    #server.starttls()\n",
    "    server.ehlo()\n",
    "    server.login('raphiougaoh@gmail.com','xxxxxxxxxxxxxx')\n",
    "    \n",
    "    subject = \"The Shirt you want is below $15! Now is your chance to buy!\"\n",
    "    body = \"Goketsu!, This is the moment we have been waiting for. Now is your chance to pick up the shirt of your dreams. Don't mess it up! Link here: https://www.amazon.com/Funny-Data-Systems-Business-Analyst/dp/B07FNW9FGJ/ref=sr_1_3?dchild=1&keywords=data+analyst+tshirt&qid=1626655184&sr=8-3\"\n",
    "   \n",
    "    msg = f\"Subject: {subject}\\n\\n{body}\"\n",
    "    \n",
    "    server.sendmail(\n",
    "        'raphiougaoh@gmail.com',\n",
    "        msg\n",
    "     \n",
    "    )"
   ]
  }
 ],
 "metadata": {
  "kernelspec": {
   "display_name": "Python 3 (ipykernel)",
   "language": "python",
   "name": "python3"
  },
  "language_info": {
   "codemirror_mode": {
    "name": "ipython",
    "version": 3
   },
   "file_extension": ".py",
   "mimetype": "text/x-python",
   "name": "python",
   "nbconvert_exporter": "python",
   "pygments_lexer": "ipython3",
   "version": "3.11.5"
  }
 },
 "nbformat": 4,
 "nbformat_minor": 5
}
